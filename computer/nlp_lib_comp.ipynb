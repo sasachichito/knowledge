{
  "nbformat": 4,
  "nbformat_minor": 0,
  "metadata": {
    "colab": {
      "provenance": [],
      "authorship_tag": "ABX9TyNOeGHb98wIn37Tjfjwz0hq",
      "include_colab_link": true
    },
    "kernelspec": {
      "name": "python3",
      "display_name": "Python 3"
    },
    "language_info": {
      "name": "python"
    }
  },
  "cells": [
    {
      "cell_type": "markdown",
      "metadata": {
        "id": "view-in-github",
        "colab_type": "text"
      },
      "source": [
        "<a href=\"https://colab.research.google.com/github/sasachichito/knowledge/blob/master/computer/nlp_lib_comp.ipynb\" target=\"_parent\"><img src=\"https://colab.research.google.com/assets/colab-badge.svg\" alt=\"Open In Colab\"/></a>"
      ]
    },
    {
      "cell_type": "markdown",
      "source": [
        "# 依存関係"
      ],
      "metadata": {
        "id": "lupJo2YOXhKv"
      }
    },
    {
      "cell_type": "code",
      "execution_count": null,
      "metadata": {
        "id": "MrzaNXsXWMGk"
      },
      "outputs": [],
      "source": [
        "!pip install transformers[ja]==4.31 argostranslate googletrans==4.0.0-rc1 deep-translator"
      ]
    },
    {
      "cell_type": "markdown",
      "source": [
        "# 翻訳"
      ],
      "metadata": {
        "id": "gJJfavzAXyAF"
      }
    },
    {
      "cell_type": "code",
      "source": [],
      "metadata": {
        "id": "q55noP1jXxhz"
      },
      "execution_count": null,
      "outputs": []
    }
  ]
}