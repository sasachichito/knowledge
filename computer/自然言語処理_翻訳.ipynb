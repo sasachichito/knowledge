{
  "nbformat": 4,
  "nbformat_minor": 0,
  "metadata": {
    "colab": {
      "provenance": [],
      "gpuType": "T4",
      "authorship_tag": "ABX9TyPihrAsFSY7OLZqYJow5iq1",
      "include_colab_link": true
    },
    "kernelspec": {
      "name": "python3",
      "display_name": "Python 3"
    },
    "language_info": {
      "name": "python"
    },
    "accelerator": "GPU"
  },
  "cells": [
    {
      "cell_type": "markdown",
      "metadata": {
        "id": "view-in-github",
        "colab_type": "text"
      },
      "source": [
        "<a href=\"https://colab.research.google.com/github/sasachichito/knowledge/blob/master/computer/%E8%87%AA%E7%84%B6%E8%A8%80%E8%AA%9E%E5%87%A6%E7%90%86_%E7%BF%BB%E8%A8%B3.ipynb\" target=\"_parent\"><img src=\"https://colab.research.google.com/assets/colab-badge.svg\" alt=\"Open In Colab\"/></a>"
      ]
    },
    {
      "cell_type": "markdown",
      "source": [
        "# 依存関係"
      ],
      "metadata": {
        "id": "3DVfgSmK3Qvk"
      }
    },
    {
      "cell_type": "code",
      "execution_count": null,
      "metadata": {
        "id": "L1SG5pTb2kwc"
      },
      "outputs": [],
      "source": [
        "# transformersのバージョンは、staka/fugumt-en-jaが4.31以下を必要とする\n",
        "!pip install transformers[ja]==4.31 argostranslate googletrans==4.0.0-rc1 deep-translator\n",
        "\n",
        "from urllib.request import urlopen\n",
        "from bs4 import BeautifulSoup\n",
        "\n",
        "def webpage_to_text(url, selector):\n",
        "  text = ''\n",
        "  with urlopen(url) as res:\n",
        "      html = res.read().decode('UTF-8', 'ignore')\n",
        "      soup = BeautifulSoup(html, 'html.parser')\n",
        "      # article = soup.find('div', class_=\"articleBody\")\n",
        "      # text = article.get_text(strip=True)\n",
        "      article = soup.select(selector)\n",
        "      text = ''\n",
        "      for p in article:\n",
        "        text += p.get_text(strip=True)\n",
        "      return text\n",
        "\n",
        "def trim_last_halfway_sentence(text, period_char):\n",
        "  if text.endswith(period_char):\n",
        "    return text\n",
        "\n",
        "  last_period_index = text.rfind(period_char)\n",
        "  return text[:last_period_index + 1]"
      ]
    },
    {
      "cell_type": "markdown",
      "source": [
        "# 英語→日本語"
      ],
      "metadata": {
        "id": "gY_WYuo_gyRf"
      }
    },
    {
      "cell_type": "code",
      "source": [
        "from transformers import pipeline\n",
        "import argostranslate.package\n",
        "import argostranslate.translate\n",
        "from googletrans import Translator\n",
        "from deep_translator import GoogleTranslator\n",
        "\n",
        "def translate_text(text):\n",
        "  print('==============origin================')\n",
        "  print(text)\n",
        "  print('====================================')\n",
        "\n",
        "  print(\"\\n\" + '>>>>> staka/fugumt-en-ja' + \"\\n\")\n",
        "  fugu_translator_en_ja = pipeline('translation', model='staka/fugumt-en-ja')\n",
        "  translated_fugu = fugu_translator_en_ja(text)\n",
        "  print([item['translation_text'] for item in translated_fugu][0])\n",
        "\n",
        "  print(\"\\n\" + '>>>>> deep_translator' + \"\\n\")\n",
        "  dtranslator_ja_en = GoogleTranslator(source='auto', target=\"ja\")\n",
        "  translated_deep = dtranslator_ja_en.translate(text)\n",
        "  print(translated_deep)\n",
        "\n",
        "  print(\"\\n\" + '>>>>> googletrans' + \"\\n\")\n",
        "  gootranslator_en_ja = Translator()\n",
        "  translated_goo = gootranslator_en_ja.translate(text, src=\"en\", dest=\"ja\")\n",
        "  print(translated_goo.text)\n",
        "\n",
        "  print(\"\\n\" + '>>>>> facebook/mbart-large-50-one-to-many-mmt' + \"\\n\")\n",
        "  mbart_translator_en_ja = pipeline('translation', model='facebook/mbart-large-50-one-to-many-mmt', src_lang='en_XX', tgt_lang='ja_XX')\n",
        "  translated_mbart = mbart_translator_en_ja(text)\n",
        "  print([item['translation_text'] for item in translated_mbart][0])\n",
        "\n",
        "  print(\"\\n\" + '>>>>> argos' + \"\\n\")\n",
        "  from_code = \"en\"\n",
        "  to_code = \"ja\"\n",
        "  argostranslate.package.update_package_index() # Download and install Argos Translate package\n",
        "  available_packages = argostranslate.package.get_available_packages()\n",
        "  package_to_install = next(\n",
        "      filter(\n",
        "          lambda x: x.from_code == from_code and x.to_code == to_code, available_packages\n",
        "      )\n",
        "  )\n",
        "  argostranslate.package.install_from_path(package_to_install.download())\n",
        "  translated_argos = argostranslate.translate.translate(text, from_code, to_code)\n",
        "  print(translated_argos)\n",
        "\n",
        "  print(\"\\n\" + '>>>>> Helsinki-NLP/opus-mt-en-jap' + \"\\n\")\n",
        "  hel_translator = pipeline('translation', model='Helsinki-NLP/opus-mt-en-jap')\n",
        "  translated_hel = hel_translator(text)\n",
        "  print([item['translation_text'] for item in translated_hel][0])\n",
        "\n",
        "  print(\"\\n\" + '>>>>> Helsinki-NLP/opus-tatoeba-en-ja' + \"\\n\")\n",
        "  hel_translator_ta = pipeline('translation', model='Helsinki-NLP/opus-tatoeba-en-ja')\n",
        "  translated_hel_ta = hel_translator_ta(text)\n",
        "  print([item['translation_text'] for item in translated_hel_ta][0])\n",
        "\n",
        "\n",
        "text = webpage_to_text('https://edition.cnn.com/2024/05/13/politics/takeaways-michael-cohen-testimony-donald-trump-day-16/index.html', '.article__content p')\n",
        "translate_text(trim_last_halfway_sentence(text[:800], '.'))"
      ],
      "metadata": {
        "id": "0EbnCd5cgx3O"
      },
      "execution_count": null,
      "outputs": []
    },
    {
      "cell_type": "markdown",
      "source": [
        "# 日本語→英語"
      ],
      "metadata": {
        "id": "1To_ld5MgtuM"
      }
    },
    {
      "cell_type": "code",
      "source": [
        "from transformers import pipeline\n",
        "import argostranslate.package\n",
        "import argostranslate.translate\n",
        "from googletrans import Translator\n",
        "from deep_translator import GoogleTranslator\n",
        "\n",
        "def translate_text(text):\n",
        "  print('==============origin================')\n",
        "  print(text)\n",
        "  print('====================================')\n",
        "\n",
        "  # 結果を日本語で確認するためにdeep_translatorを使用\n",
        "  translator_for_print_ja = GoogleTranslator(source='auto', target=\"ja\")\n",
        "\n",
        "  print(\"\\n\" + '>>>>> staka/fugumt-ja-en' + \"\\n\")\n",
        "  fugu_translator_ja_en = pipeline('translation', model='staka/fugumt-ja-en')\n",
        "  translated_fugu = fugu_translator_ja_en(text)\n",
        "  print([item['translation_text'] for item in translated_fugu][0])\n",
        "  print(translator_for_print_ja.translate([item['translation_text'] for item in translated_fugu][0]))\n",
        "\n",
        "  print(\"\\n\" + '>>>>> deep_translator' + \"\\n\")\n",
        "  dtranslator_ja_en = GoogleTranslator(source='auto', target=\"en\")\n",
        "  translated_deep = dtranslator_ja_en.translate(text)\n",
        "  print(translated_deep)\n",
        "  print(translator_for_print_ja.translate(translated_deep))\n",
        "\n",
        "  print(\"\\n\" + '>>>>> googletrans' + \"\\n\")\n",
        "  gootranslator_ja_en = Translator()\n",
        "  translated_goo = gootranslator_ja_en.translate(text, src=\"ja\", dest=\"en\")\n",
        "  print(translated_goo.text)\n",
        "  print(translator_for_print_ja.translate(translated_goo.text))\n",
        "\n",
        "  print(\"\\n\" + '>>>>> facebook/mbart-large-50-many-to-many-mmt' + \"\\n\")\n",
        "  mbart_translator_ja_en = pipeline('translation', model='facebook/mbart-large-50-many-to-many-mmt', src_lang='ja_XX', tgt_lang='en_XX')\n",
        "  translated_mbart = mbart_translator_ja_en(text)\n",
        "  print([item['translation_text'] for item in translated_mbart][0])\n",
        "  print(translator_for_print_ja.translate([item['translation_text'] for item in translated_mbart][0]))\n",
        "\n",
        "  print(\"\\n\" + '>>>>> argos' + \"\\n\")\n",
        "  from_code = \"ja\"\n",
        "  to_code = \"en\"\n",
        "  argostranslate.package.update_package_index() # Download and install Argos Translate package\n",
        "  available_packages = argostranslate.package.get_available_packages()\n",
        "  package_to_install = next(\n",
        "      filter(\n",
        "          lambda x: x.from_code == from_code and x.to_code == to_code, available_packages\n",
        "      )\n",
        "  )\n",
        "  argostranslate.package.install_from_path(package_to_install.download())\n",
        "  translated_argos = argostranslate.translate.translate(text, from_code, to_code)\n",
        "  print(translated_argos)\n",
        "  print(translator_for_print_ja.translate(translated_argos))\n",
        "\n",
        "  print(\"\\n\" + '>>>>> Helsinki-NLP/opus-mt-ja-en' + \"\\n\")\n",
        "  hel_translator = pipeline('translation', model='Helsinki-NLP/opus-mt-ja-en')\n",
        "  translated_hel = hel_translator(text)\n",
        "  print([item['translation_text'] for item in translated_hel][0])\n",
        "  print(translator_for_print_ja.translate([item['translation_text'] for item in translated_hel][0]))\n",
        "\n",
        "text = webpage_to_text('https://xtech.nikkei.com/atcl/nxt/column/18/02828/050900001/', '.articleBody p')\n",
        "translate_text(trim_last_halfway_sentence(text[:800], '。'))"
      ],
      "metadata": {
        "id": "q55noP1jXxhz"
      },
      "execution_count": null,
      "outputs": []
    }
  ]
}