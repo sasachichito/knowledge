{
  "nbformat": 4,
  "nbformat_minor": 0,
  "metadata": {
    "colab": {
      "provenance": [],
      "authorship_tag": "ABX9TyOpr/0U7y+9qJ38lfIUlkB6",
      "include_colab_link": true
    },
    "kernelspec": {
      "name": "python3",
      "display_name": "Python 3"
    },
    "language_info": {
      "name": "python"
    }
  },
  "cells": [
    {
      "cell_type": "markdown",
      "metadata": {
        "id": "view-in-github",
        "colab_type": "text"
      },
      "source": [
        "<a href=\"https://colab.research.google.com/github/sasachichito/knowledge/blob/master/computer/%E8%87%AA%E7%84%B6%E8%A8%80%E8%AA%9E%E5%87%A6%E7%90%86_%E8%A6%81%E7%B4%84_%E6%8A%BD%E8%B1%A1%E5%9E%8B.ipynb\" target=\"_parent\"><img src=\"https://colab.research.google.com/assets/colab-badge.svg\" alt=\"Open In Colab\"/></a>"
      ]
    },
    {
      "cell_type": "markdown",
      "source": [
        "# 依存関係"
      ],
      "metadata": {
        "id": "Ksf_9_Ym5j5S"
      }
    },
    {
      "cell_type": "code",
      "execution_count": null,
      "metadata": {
        "id": "bv_Hda2H5MO0"
      },
      "outputs": [],
      "source": [
        "!pip install transformers[ja] deep-translator\n",
        "\n",
        "from urllib.request import urlopen\n",
        "from bs4 import BeautifulSoup\n",
        "\n",
        "def webpage_to_text(url, selector):\n",
        "  text = ''\n",
        "  with urlopen(url) as res:\n",
        "      html = res.read().decode('UTF-8', 'ignore')\n",
        "      soup = BeautifulSoup(html, 'html.parser')\n",
        "      # article = soup.find('div', class_=\"articleBody\")\n",
        "      # text = article.get_text(strip=True)\n",
        "      article = soup.select(selector)\n",
        "      text = ''\n",
        "      for p in article:\n",
        "        text += p.get_text(strip=True)\n",
        "      return text\n",
        "\n",
        "def trim_last_halfway_sentence(text, period_char):\n",
        "  if text.endswith(period_char):\n",
        "    return text\n",
        "\n",
        "  last_period_index = text.rfind(period_char)\n",
        "  return text[:last_period_index + 1]"
      ]
    },
    {
      "cell_type": "markdown",
      "source": [
        "# 抽象型要約"
      ],
      "metadata": {
        "id": "k9wYN8-75shn"
      }
    },
    {
      "cell_type": "code",
      "source": [
        "from deep_translator import GoogleTranslator\n",
        "from transformers import pipeline\n",
        "\n",
        "def summary_text(text_ja, text_en):\n",
        "  print('==============origin================')\n",
        "  print(text_ja)\n",
        "  print(text_en)\n",
        "  print('====================================')\n",
        "\n",
        "  text = text_en\n",
        "\n",
        "  # 結果を日本語で確認するためにdeep_translatorを使用\n",
        "  translator_for_print_ja = GoogleTranslator(source='auto', target=\"ja\")\n",
        "\n",
        "  print(\"\\n\" + '>>>>> google/pegasus-large' + \"\\n\")\n",
        "  pega_l_summarizer = pipeline(\"summarization\", model=\"google/pegasus-large\")\n",
        "  summarized_pega_l = pega_l_summarizer(text, max_length=130, min_length=30, do_sample=False)\n",
        "  print([item['summary_text'] for item in summarized_pega_l][0])\n",
        "  print(translator_for_print_ja.translate([item['summary_text'] for item in summarized_pega_l][0]))\n",
        "\n",
        "  print(\"\\n\" + '>>>>> google/pegasus-xsum' + \"\\n\")\n",
        "  pega_x_summarizer = pipeline(\"summarization\", model=\"google/pegasus-xsum\")\n",
        "  summarized_pega_x = pega_x_summarizer(text, max_length=130, min_length=30, do_sample=False)\n",
        "  print([item['summary_text'] for item in summarized_pega_x][0])\n",
        "  print(translator_for_print_ja.translate([item['summary_text'] for item in summarized_pega_x][0]))\n",
        "\n",
        "  print(\"\\n\" + '>>>>> facebook/bart-large-cnn' + \"\\n\")\n",
        "  bart_summarizer = pipeline(\"summarization\", model=\"facebook/bart-large-cnn\")\n",
        "  summarized_bart = bart_summarizer(text, max_length=130, min_length=30, do_sample=False)\n",
        "  print([item['summary_text'] for item in summarized_bart][0])\n",
        "  print(translator_for_print_ja.translate([item['summary_text'] for item in summarized_bart][0]))\n",
        "\n",
        "  print(\"\\n\" + '>>>>> csebuetnlp/mT5_multilingual_XLSum' + \"\\n\")\n",
        "  t5_summarizer = pipeline(\"summarization\", model=\"csebuetnlp/mT5_multilingual_XLSum\")\n",
        "  summarized_t5 = t5_summarizer(text, max_length=130, min_length=30, do_sample=True)\n",
        "  print([item['summary_text'] for item in summarized_t5][0])\n",
        "  print(translator_for_print_ja.translate([item['summary_text'] for item in summarized_t5][0]))\n",
        "\n",
        "# 日本語記事の要約\n",
        "# text_ja = webpage_to_text('https://xtech.nikkei.com/atcl/nxt/column/18/02828/050900001/', '.articleBody p')\n",
        "# text_ja = webpage_to_text('https://xtech.nikkei.com/atcl/nxt/column/18/02783/051000018/', '.articleBody p')\n",
        "text_ja = webpage_to_text('https://xtech.nikkei.com/atcl/nxt/column/18/02252/051400006/', '.articleBody p')\n",
        "text_ja = trim_last_halfway_sentence(text_ja[:800], '。')\n",
        "translator_to_en = GoogleTranslator(source='auto', target=\"en\")\n",
        "text_en = translator_to_en.translate(text_ja)\n",
        "summary_text(text_ja, text_en)\n",
        "\n",
        "# 英語記事の要約\n",
        "text_en = webpage_to_text('https://edition.cnn.com/2024/05/13/politics/takeaways-michael-cohen-testimony-donald-trump-day-16/index.html', '.article__content p')\n",
        "text_en = trim_last_halfway_sentence(text_en[:800], '.')\n",
        "summary_text('', text_en)"
      ],
      "metadata": {
        "id": "fGRHjJVL5sMi"
      },
      "execution_count": null,
      "outputs": []
    }
  ]
}